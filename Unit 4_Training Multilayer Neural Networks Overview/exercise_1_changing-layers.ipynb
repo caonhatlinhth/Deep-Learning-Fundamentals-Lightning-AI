{
 "cells": [
  {
   "attachments": {},
   "cell_type": "markdown",
   "id": "d71bce70-9dc3-448b-9f9a-8896e83b6d09",
   "metadata": {},
   "source": [
    "# Implementing a Multilayer Perceptron (MNIST)"
   ]
  },
  {
   "attachments": {},
   "cell_type": "markdown",
   "id": "e5b48fc7-4f46-4d5a-8558-cd06892aaa27",
   "metadata": {},
   "source": [
    "## 1) Installing Libraries"
   ]
  },
  {
   "cell_type": "code",
   "execution_count": 1,
   "id": "be1f5a9a-b3ee-424b-ab02-4371f49bd786",
   "metadata": {},
   "outputs": [],
   "source": [
    "# !conda install numpy pandas matplotlib --yes"
   ]
  },
  {
   "cell_type": "code",
   "execution_count": 2,
   "id": "1ea7b3b8-9092-4b37-8b7f-57362be611ad",
   "metadata": {},
   "outputs": [],
   "source": [
    "# !pip install torch torchvision torchaudio"
   ]
  },
  {
   "cell_type": "code",
   "execution_count": 3,
   "id": "79dd2077-ba5c-4ab5-95fc-6ee4d8a9f811",
   "metadata": {},
   "outputs": [],
   "source": [
    "# !conda install watermark"
   ]
  },
  {
   "cell_type": "code",
   "execution_count": 4,
   "id": "bc4fa295-5c62-4888-bcf8-d07d6a7afc47",
   "metadata": {},
   "outputs": [],
   "source": [
    "# %load_ext watermark\n",
    "# %watermark -v -p numpy,pandas,matplotlib,torch"
   ]
  },
  {
   "attachments": {},
   "cell_type": "markdown",
   "id": "b9549676-2fa5-41a7-bbb9-ce03f5797c34",
   "metadata": {},
   "source": [
    "## 2) Loading the dataset"
   ]
  },
  {
   "attachments": {},
   "cell_type": "markdown",
   "id": "e002ad95-a1f7-4c33-826a-4a45944f2687",
   "metadata": {},
   "source": [
    "- MNIST website: http://yann.lecun.com/exdb/mnist/"
   ]
  },
  {
   "cell_type": "code",
   "execution_count": 5,
   "id": "f609024c-3eae-4ad5-8cb8-b95b403b7606",
   "metadata": {},
   "outputs": [
    {
     "name": "stdout",
     "output_type": "stream",
     "text": [
      "Downloading http://yann.lecun.com/exdb/mnist/train-images-idx3-ubyte.gz\n",
      "Downloading http://yann.lecun.com/exdb/mnist/train-images-idx3-ubyte.gz to ./mnist\\MNIST\\raw\\train-images-idx3-ubyte.gz\n"
     ]
    },
    {
     "data": {
      "application/vnd.jupyter.widget-view+json": {
       "model_id": "d14a858df3134342bce67ca1c7a85af9",
       "version_major": 2,
       "version_minor": 0
      },
      "text/plain": [
       "  0%|          | 0/9912422 [00:00<?, ?it/s]"
      ]
     },
     "metadata": {},
     "output_type": "display_data"
    },
    {
     "name": "stdout",
     "output_type": "stream",
     "text": [
      "Extracting ./mnist\\MNIST\\raw\\train-images-idx3-ubyte.gz to ./mnist\\MNIST\\raw\n",
      "\n",
      "Downloading http://yann.lecun.com/exdb/mnist/train-labels-idx1-ubyte.gz\n",
      "Downloading http://yann.lecun.com/exdb/mnist/train-labels-idx1-ubyte.gz to ./mnist\\MNIST\\raw\\train-labels-idx1-ubyte.gz\n"
     ]
    },
    {
     "data": {
      "application/vnd.jupyter.widget-view+json": {
       "model_id": "8862acfc49d94b89a59260aeb2263566",
       "version_major": 2,
       "version_minor": 0
      },
      "text/plain": [
       "  0%|          | 0/28881 [00:00<?, ?it/s]"
      ]
     },
     "metadata": {},
     "output_type": "display_data"
    },
    {
     "name": "stdout",
     "output_type": "stream",
     "text": [
      "Extracting ./mnist\\MNIST\\raw\\train-labels-idx1-ubyte.gz to ./mnist\\MNIST\\raw\n",
      "\n",
      "Downloading http://yann.lecun.com/exdb/mnist/t10k-images-idx3-ubyte.gz\n",
      "Downloading http://yann.lecun.com/exdb/mnist/t10k-images-idx3-ubyte.gz to ./mnist\\MNIST\\raw\\t10k-images-idx3-ubyte.gz\n"
     ]
    },
    {
     "data": {
      "application/vnd.jupyter.widget-view+json": {
       "model_id": "8fd978f7670c41a2942967f2eb1e431b",
       "version_major": 2,
       "version_minor": 0
      },
      "text/plain": [
       "  0%|          | 0/1648877 [00:00<?, ?it/s]"
      ]
     },
     "metadata": {},
     "output_type": "display_data"
    },
    {
     "name": "stdout",
     "output_type": "stream",
     "text": [
      "Extracting ./mnist\\MNIST\\raw\\t10k-images-idx3-ubyte.gz to ./mnist\\MNIST\\raw\n",
      "\n",
      "Downloading http://yann.lecun.com/exdb/mnist/t10k-labels-idx1-ubyte.gz\n",
      "Downloading http://yann.lecun.com/exdb/mnist/t10k-labels-idx1-ubyte.gz to ./mnist\\MNIST\\raw\\t10k-labels-idx1-ubyte.gz\n"
     ]
    },
    {
     "data": {
      "application/vnd.jupyter.widget-view+json": {
       "model_id": "666a9f30f76849268ec3e201c1d5910d",
       "version_major": 2,
       "version_minor": 0
      },
      "text/plain": [
       "  0%|          | 0/4542 [00:00<?, ?it/s]"
      ]
     },
     "metadata": {},
     "output_type": "display_data"
    },
    {
     "name": "stdout",
     "output_type": "stream",
     "text": [
      "Extracting ./mnist\\MNIST\\raw\\t10k-labels-idx1-ubyte.gz to ./mnist\\MNIST\\raw\n",
      "\n"
     ]
    }
   ],
   "source": [
    "from torch.utils.data import DataLoader\n",
    "from torchvision import datasets, transforms\n",
    "\n",
    "train_dataset = datasets.MNIST(\n",
    "    root=\"./mnist\", train=True, transform=transforms.ToTensor(), download=True\n",
    ")\n",
    "\n",
    "test_dataset = datasets.MNIST(\n",
    "    root=\"./mnist\", train=False, transform=transforms.ToTensor()\n",
    ")"
   ]
  },
  {
   "cell_type": "code",
   "execution_count": 6,
   "id": "6661307a-6220-48d5-b965-4cd36e29e54c",
   "metadata": {},
   "outputs": [
    {
     "data": {
      "text/plain": [
       "60000"
      ]
     },
     "execution_count": 6,
     "metadata": {},
     "output_type": "execute_result"
    }
   ],
   "source": [
    "len(train_dataset)"
   ]
  },
  {
   "cell_type": "code",
   "execution_count": 7,
   "id": "78adc94e-5418-4aac-9a82-9a9cbf8fc688",
   "metadata": {},
   "outputs": [
    {
     "data": {
      "text/plain": [
       "10000"
      ]
     },
     "execution_count": 7,
     "metadata": {},
     "output_type": "execute_result"
    }
   ],
   "source": [
    "len(test_dataset)"
   ]
  },
  {
   "attachments": {},
   "cell_type": "markdown",
   "id": "765adcf0-9147-434b-917a-f6d736a7117e",
   "metadata": {},
   "source": [
    "### Create a validation set"
   ]
  },
  {
   "cell_type": "code",
   "execution_count": 8,
   "id": "b39a42a2-cd46-46cf-ba93-d3f2f232f29c",
   "metadata": {},
   "outputs": [],
   "source": [
    "import torch\n",
    "from torch.utils.data.dataset import random_split\n",
    "\n",
    "torch.manual_seed(1)\n",
    "train_dataset, val_dataset = random_split(train_dataset, lengths=[55000, 5000])"
   ]
  },
  {
   "cell_type": "code",
   "execution_count": 9,
   "id": "b30e4a70-55b3-4fb0-b28d-b0fddd193fae",
   "metadata": {},
   "outputs": [],
   "source": [
    "train_loader = DataLoader(\n",
    "    dataset=train_dataset,\n",
    "    batch_size=64,\n",
    "    shuffle=True,\n",
    ")\n",
    "\n",
    "val_loader = DataLoader(\n",
    "    dataset=val_dataset,\n",
    "    batch_size=64,\n",
    "    shuffle=False,\n",
    ")\n",
    "\n",
    "test_loader = DataLoader(\n",
    "    dataset=test_dataset,\n",
    "    batch_size=64,\n",
    "    shuffle=False,\n",
    ")"
   ]
  },
  {
   "attachments": {},
   "cell_type": "markdown",
   "id": "7b0c70bc",
   "metadata": {},
   "source": [
    "## Requirement:Changing the Number of Layers\n",
    "\n",
    "In this exercise, we are toying around with the multilayer perceptron architecture from Unit 4.3.\n",
    "\n",
    "This network had 40,785 parameters (see Quiz on how to calculate this number), and it achieved the following accuracy values:\n",
    "- Train Acc 97.24%\n",
    "- Val Acc 95.64%\n",
    "- Test Acc 96.46%\n",
    "\n",
    "Can you change the architecture to achieve the same (or better) performance with fewer parameters and only 1 hidden layer?"
   ]
  },
  {
   "attachments": {},
   "cell_type": "markdown",
   "id": "db50db02-3696-4f86-b149-74baabeec6c4",
   "metadata": {},
   "source": [
    "## 3) Implementing the model"
   ]
  },
  {
   "cell_type": "code",
   "execution_count": 10,
   "id": "971389a7-5424-4141-a3ee-9399eebbbb6a",
   "metadata": {},
   "outputs": [],
   "source": [
    "#The previous model architecture\n",
    "# import torch\n",
    "\n",
    "# class PyTorchMLP(torch.nn.Module):\n",
    "#     def __init__(self, num_features, num_classes):\n",
    "#         super().__init__()\n",
    "\n",
    "#         self.all_layers = torch.nn.Sequential(\n",
    "#             # 1st hidden layer\n",
    "#             torch.nn.Linear(num_features, 50),\n",
    "#             torch.nn.ReLU(),\n",
    "#             # 2nd hidden layer\n",
    "#             torch.nn.Linear(50, 25),\n",
    "#             torch.nn.ReLU(),\n",
    "#             # output layer\n",
    "#             torch.nn.Linear(25, num_classes),\n",
    "#         )\n",
    "\n",
    "#     def forward(self, x):\n",
    "#         x = torch.flatten(x, start_dim=1)\n",
    "#         logits = self.all_layers(x)\n",
    "#         return logits"
   ]
  },
  {
   "cell_type": "code",
   "execution_count": 11,
   "id": "93765bce",
   "metadata": {},
   "outputs": [],
   "source": [
    "#New model architecture\n",
    "import torch\n",
    "\n",
    "class PyTorchMLP(torch.nn.Module):\n",
    "    def __init__(self, num_features, num_classes):\n",
    "        super().__init__()\n",
    "\n",
    "        self.all_layers = torch.nn.Sequential(\n",
    "            # 1st hidden layer\n",
    "            torch.nn.Linear(num_features, 50),\n",
    "            torch.nn.ReLU(),\n",
    "            torch.nn.Linear(50, num_classes),\n",
    "        )\n",
    "\n",
    "    def forward(self, x):\n",
    "        x = torch.flatten(x, start_dim=1)\n",
    "        logits = self.all_layers(x)\n",
    "        return logits"
   ]
  },
  {
   "attachments": {},
   "cell_type": "markdown",
   "id": "46bc16a0-ec59-4c54-a209-0a5e22406287",
   "metadata": {},
   "source": [
    "## 4) The training loop"
   ]
  },
  {
   "cell_type": "code",
   "execution_count": 12,
   "id": "8de213fc-48b0-4f7c-af9e-8e2da068e351",
   "metadata": {},
   "outputs": [],
   "source": [
    "def compute_accuracy(model, dataloader):\n",
    "\n",
    "    model = model.eval()\n",
    "\n",
    "    correct = 0.0\n",
    "    total_examples = 0\n",
    "\n",
    "    for idx, (features, labels) in enumerate(dataloader):\n",
    "\n",
    "        with torch.no_grad():\n",
    "            logits = model(features)\n",
    "\n",
    "        predictions = torch.argmax(logits, dim=1)\n",
    "\n",
    "        compare = labels == predictions\n",
    "        correct += torch.sum(compare)\n",
    "        total_examples += len(compare)\n",
    "\n",
    "    return correct / total_examples"
   ]
  },
  {
   "cell_type": "code",
   "execution_count": 13,
   "id": "3dcaa2b1-4019-4128-9ff5-6a966c3abdf2",
   "metadata": {},
   "outputs": [
    {
     "name": "stdout",
     "output_type": "stream",
     "text": [
      "Epoch: 001/010 | Batch 000/860 | Train Loss: 2.32\n",
      "Epoch: 001/010 | Batch 250/860 | Train Loss: 0.69\n",
      "Epoch: 001/010 | Batch 500/860 | Train Loss: 0.42\n",
      "Epoch: 001/010 | Batch 750/860 | Train Loss: 0.39\n",
      "Train Acc 90.73% | Val Acc 90.72%\n",
      "Epoch: 002/010 | Batch 000/860 | Train Loss: 0.38\n",
      "Epoch: 002/010 | Batch 250/860 | Train Loss: 0.21\n",
      "Epoch: 002/010 | Batch 500/860 | Train Loss: 0.21\n",
      "Epoch: 002/010 | Batch 750/860 | Train Loss: 0.30\n",
      "Train Acc 92.17% | Val Acc 91.74%\n",
      "Epoch: 003/010 | Batch 000/860 | Train Loss: 0.44\n",
      "Epoch: 003/010 | Batch 250/860 | Train Loss: 0.31\n",
      "Epoch: 003/010 | Batch 500/860 | Train Loss: 0.20\n",
      "Epoch: 003/010 | Batch 750/860 | Train Loss: 0.22\n",
      "Train Acc 93.32% | Val Acc 92.82%\n",
      "Epoch: 004/010 | Batch 000/860 | Train Loss: 0.41\n",
      "Epoch: 004/010 | Batch 250/860 | Train Loss: 0.08\n",
      "Epoch: 004/010 | Batch 500/860 | Train Loss: 0.18\n",
      "Epoch: 004/010 | Batch 750/860 | Train Loss: 0.27\n",
      "Train Acc 93.80% | Val Acc 93.26%\n",
      "Epoch: 005/010 | Batch 000/860 | Train Loss: 0.26\n",
      "Epoch: 005/010 | Batch 250/860 | Train Loss: 0.26\n",
      "Epoch: 005/010 | Batch 500/860 | Train Loss: 0.37\n",
      "Epoch: 005/010 | Batch 750/860 | Train Loss: 0.18\n",
      "Train Acc 94.72% | Val Acc 94.04%\n",
      "Epoch: 006/010 | Batch 000/860 | Train Loss: 0.17\n",
      "Epoch: 006/010 | Batch 250/860 | Train Loss: 0.12\n",
      "Epoch: 006/010 | Batch 500/860 | Train Loss: 0.17\n",
      "Epoch: 006/010 | Batch 750/860 | Train Loss: 0.08\n",
      "Train Acc 95.30% | Val Acc 94.34%\n",
      "Epoch: 007/010 | Batch 000/860 | Train Loss: 0.27\n",
      "Epoch: 007/010 | Batch 250/860 | Train Loss: 0.07\n",
      "Epoch: 007/010 | Batch 500/860 | Train Loss: 0.12\n",
      "Epoch: 007/010 | Batch 750/860 | Train Loss: 0.15\n",
      "Train Acc 95.68% | Val Acc 94.70%\n",
      "Epoch: 008/010 | Batch 000/860 | Train Loss: 0.29\n",
      "Epoch: 008/010 | Batch 250/860 | Train Loss: 0.12\n",
      "Epoch: 008/010 | Batch 500/860 | Train Loss: 0.07\n",
      "Epoch: 008/010 | Batch 750/860 | Train Loss: 0.09\n",
      "Train Acc 96.02% | Val Acc 95.16%\n",
      "Epoch: 009/010 | Batch 000/860 | Train Loss: 0.17\n",
      "Epoch: 009/010 | Batch 250/860 | Train Loss: 0.10\n",
      "Epoch: 009/010 | Batch 500/860 | Train Loss: 0.04\n",
      "Epoch: 009/010 | Batch 750/860 | Train Loss: 0.14\n",
      "Train Acc 96.29% | Val Acc 95.28%\n",
      "Epoch: 010/010 | Batch 000/860 | Train Loss: 0.09\n",
      "Epoch: 010/010 | Batch 250/860 | Train Loss: 0.08\n",
      "Epoch: 010/010 | Batch 500/860 | Train Loss: 0.06\n",
      "Epoch: 010/010 | Batch 750/860 | Train Loss: 0.12\n",
      "Train Acc 96.63% | Val Acc 95.36%\n"
     ]
    }
   ],
   "source": [
    "import torch.nn.functional as F\n",
    "\n",
    "torch.manual_seed(1)\n",
    "model = PyTorchMLP(num_features=784, num_classes=10)\n",
    "\n",
    "optimizer = torch.optim.SGD(model.parameters(), lr=0.05)\n",
    "\n",
    "num_epochs = 10\n",
    "\n",
    "loss_list = []\n",
    "train_acc_list, val_acc_list = [], []\n",
    "for epoch in range(num_epochs):\n",
    "\n",
    "    model = model.train()\n",
    "    for batch_idx, (features, labels) in enumerate(train_loader):\n",
    "\n",
    "        logits = model(features)\n",
    "\n",
    "        loss = F.cross_entropy(logits, labels)\n",
    "\n",
    "        optimizer.zero_grad()\n",
    "        loss.backward()\n",
    "        optimizer.step()\n",
    "\n",
    "        if not batch_idx % 250:\n",
    "            ### LOGGING\n",
    "            print(\n",
    "                f\"Epoch: {epoch+1:03d}/{num_epochs:03d}\"\n",
    "                f\" | Batch {batch_idx:03d}/{len(train_loader):03d}\"\n",
    "                f\" | Train Loss: {loss:.2f}\"\n",
    "            )\n",
    "        loss_list.append(loss.item())\n",
    "\n",
    "    train_acc = compute_accuracy(model, train_loader)\n",
    "    val_acc = compute_accuracy(model, val_loader)\n",
    "    print(f\"Train Acc {train_acc*100:.2f}% | Val Acc {val_acc*100:.2f}%\")\n",
    "    train_acc_list.append(train_acc)\n",
    "    val_acc_list.append(val_acc)"
   ]
  },
  {
   "attachments": {},
   "cell_type": "markdown",
   "id": "bb0d5821-7c8d-46b5-9e7d-02e72cac2acc",
   "metadata": {},
   "source": [
    "## 7) Evaluating the results"
   ]
  },
  {
   "cell_type": "code",
   "execution_count": 14,
   "id": "27538c8d-61bc-47b0-8289-b6aab4aa16ed",
   "metadata": {},
   "outputs": [
    {
     "name": "stdout",
     "output_type": "stream",
     "text": [
      "Train Acc 96.63%\n",
      "Val Acc 95.36%\n",
      "Test Acc 95.97%\n"
     ]
    }
   ],
   "source": [
    "train_acc = compute_accuracy(model, train_loader)\n",
    "val_acc = compute_accuracy(model, val_loader)\n",
    "test_acc = compute_accuracy(model, test_loader)\n",
    "\n",
    "print(f\"Train Acc {train_acc*100:.2f}%\")\n",
    "print(f\"Val Acc {val_acc*100:.2f}%\")\n",
    "print(f\"Test Acc {test_acc*100:.2f}%\")"
   ]
  },
  {
   "attachments": {},
   "cell_type": "markdown",
   "id": "54333633",
   "metadata": {},
   "source": [
    "With only 1 hidden layer, the accuracy is smaller"
   ]
  },
  {
   "cell_type": "code",
   "execution_count": 15,
   "id": "0f1f8499-3191-4f78-b2d4-82daba9b9bc0",
   "metadata": {},
   "outputs": [
    {
     "data": {
      "image/png": "[encoded data removed]",
      "text/plain": [
       "<Figure size 640x480 with 2 Axes>"
      ]
     },
     "metadata": {},
     "output_type": "display_data"
    }
   ],
   "source": [
    "from helper_plotting import plot_training_loss\n",
    "\n",
    "plot_training_loss(minibatch_loss_list=loss_list,\n",
    "                   num_epochs=num_epochs,\n",
    "                   iter_per_epoch=len(loss_list)//num_epochs)"
   ]
  },
  {
   "cell_type": "code",
   "execution_count": 16,
   "id": "bf9d4519-b7a2-4382-90d0-a0dce2ee608e",
   "metadata": {},
   "outputs": [
    {
     "data": {
      "image/png": "[encoded data removed]",
      "text/plain": [
       "<Figure size 640x480 with 1 Axes>"
      ]
     },
     "metadata": {},
     "output_type": "display_data"
    }
   ],
   "source": [
    "from helper_plotting import plot_accuracy\n",
    "\n",
    "plot_accuracy(train_acc_list=train_acc_list, valid_acc_list=val_acc_list)"
   ]
  }
 ],
 "metadata": {
  "kernelspec": {
   "display_name": "Python 3 (ipykernel)",
   "language": "python",
   "name": "python3"
  },
  "language_info": {
   "codemirror_mode": {
    "name": "ipython",
    "version": 3
   },
   "file_extension": ".py",
   "mimetype": "text/x-python",
   "name": "python",
   "nbconvert_exporter": "python",
   "pygments_lexer": "ipython3",
   "version": "3.7.8"
  }
 },
 "nbformat": 4,
 "nbformat_minor": 5
}
